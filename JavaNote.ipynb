{
 "cells": [
  {
   "cell_type": "markdown",
   "metadata": {},
   "source": [
    "# Basic"
   ]
  },
  {
   "cell_type": "markdown",
   "metadata": {},
   "source": [
    "## class，method，object，variable"
   ]
  },
  {
   "cell_type": "markdown",
   "metadata": {},
   "source": [
    "### Class（类）\n",
    "    类是对象的蓝图或模板，它定义了对象的属性和行为。类包含字段（属性）和方法（行为）。"
   ]
  },
  {
   "cell_type": "code",
   "execution_count": null,
   "metadata": {},
   "outputs": [],
   "source": [
    "public class Car {\n",
    "    // 属性（变量）\n",
    "    private String color;\n",
    "    private String model;\n",
    "\n",
    "    // 构造函数\n",
    "    public Car(String color, String model) {\n",
    "        this.color = color;\n",
    "        this.model = model;\n",
    "    }\n",
    "\n",
    "    // 方法\n",
    "    public void displayInfo() {\n",
    "        System.out.println(\"Color: \" + color + \", Model: \" + model);\n",
    "    }\n",
    "}"
   ]
  },
  {
   "cell_type": "markdown",
   "metadata": {},
   "source": [
    "### Method（方法）\n",
    "    方法是类中的函数，用于定义对象的行为。方法可以执行操作、计算值或修改对象的状态。"
   ]
  },
  {
   "cell_type": "code",
   "execution_count": null,
   "metadata": {},
   "outputs": [],
   "source": [
    "public void displayInfo() {\n",
    "    System.out.println(\"Color: \" + color + \", Model: \" + model);\n",
    "}\n",
    "// displayInfo是一个方法，它打印汽车的颜色和型号"
   ]
  },
  {
   "cell_type": "markdown",
   "metadata": {},
   "source": [
    "### Object（对象）\n",
    "    对象是类的实例，通过类创建的具体实体。对象包含类定义的属性和方法。"
   ]
  },
  {
   "cell_type": "code",
   "execution_count": null,
   "metadata": {},
   "outputs": [],
   "source": [
    "public class Main {\n",
    "    public static void main(String[] args) {\n",
    "        // 创建对象\n",
    "        Car myCar = new Car(\"Red\", \"Toyota\");\n",
    "        // 调用方法\n",
    "        myCar.displayInfo();\n",
    "    }\n",
    "}\n",
    "// myCar是Car类的一个对象，通过构造函数创建，并调用了displayInfo方法"
   ]
  },
  {
   "cell_type": "markdown",
   "metadata": {},
   "source": [
    "### Variable（变量）\n",
    "    变量是存储数据的容器，可以在类中定义为属性，也可以在方法中定义为局部变量。"
   ]
  },
  {
   "cell_type": "code",
   "execution_count": null,
   "metadata": {},
   "outputs": [],
   "source": [
    "public class Car {\n",
    "    // 类属性（变量）\n",
    "    private String color;\n",
    "    private String model;\n",
    "\n",
    "    public void setColor(String color) {\n",
    "        // 局部变量\n",
    "        this.color = color;\n",
    "    }\n",
    "}\n",
    "// color和model是类的属性，而color参数是方法中的局部变量。"
   ]
  },
  {
   "cell_type": "markdown",
   "metadata": {},
   "source": [
    "## the default constructor of class 默认构造函数\n",
    "    是一个没有参数的构造函数。如果你没有显式地定义任何构造函数，Java编译器会自动为你的类生成一个默认构造函数。这个默认构造函数会初始化对象的所有属性为其默认值（例如，数值类型为0，布尔类型为false，对象类型为null）。"
   ]
  },
  {
   "cell_type": "markdown",
   "metadata": {},
   "source": [
    "    假设我们有一个类Person，没有定义任何构造函数："
   ]
  },
  {
   "cell_type": "code",
   "execution_count": null,
   "metadata": {},
   "outputs": [],
   "source": [
    "public class Person {\n",
    "    private String name;\n",
    "    private int age;\n",
    "}"
   ]
  },
  {
   "cell_type": "markdown",
   "metadata": {},
   "source": [
    "    在这种情况下，Java编译器会自动生成一个默认构造函数："
   ]
  },
  {
   "cell_type": "code",
   "execution_count": null,
   "metadata": {},
   "outputs": [],
   "source": [
    "public class Person {\n",
    "    private String name;\n",
    "    private int age;\n",
    "\n",
    "    // 默认构造函数\n",
    "    public Person() {\n",
    "        // 什么都不做，但会初始化name为null，age为0\n",
    "    }\n",
    "}"
   ]
  },
  {
   "cell_type": "markdown",
   "metadata": {},
   "source": [
    "    如果你定义了一个带参数的构造函数，Java编译器就不会再自动生成默认构造函数了。例如："
   ]
  },
  {
   "cell_type": "code",
   "execution_count": null,
   "metadata": {},
   "outputs": [],
   "source": [
    "public class Person {\n",
    "    private String name;\n",
    "    private int age;\n",
    "\n",
    "    // 带参数的构造函数\n",
    "    public Person(String name, int age) {\n",
    "        this.name = name;\n",
    "        this.age = age;\n",
    "    }\n",
    "}"
   ]
  },
  {
   "cell_type": "markdown",
   "metadata": {},
   "source": [
    "    在这种情况下，如果你还想要一个无参数的构造函数，你需要显式地定义它："
   ]
  },
  {
   "cell_type": "code",
   "execution_count": null,
   "metadata": {},
   "outputs": [],
   "source": [
    "public class Person {\n",
    "    private String name;\n",
    "    private int age;\n",
    "\n",
    "    // 带参数的构造函数\n",
    "    public Person(String name, int age) {\n",
    "        this.name = name;\n",
    "        this.age = age;\n",
    "    }\n",
    "\n",
    "    // 无参数的构造函数\n",
    "    public Person() {\n",
    "        // 什么都不做，但会初始化name为null，age为0\n",
    "    }\n",
    "}"
   ]
  },
  {
   "cell_type": "markdown",
   "metadata": {},
   "source": [
    "## static\n",
    "用于定义类级别的成员和方法，使得它们可以在不创建对象的情况下直接通过类名访问"
   ]
  },
  {
   "cell_type": "markdown",
   "metadata": {},
   "source": [
    "### 静态方法：\n",
    "\n",
    "    静态方法是属于类的，而不是某个特定对象的。\n",
    "\n",
    "    静态方法可以直接通过类名调用，而不需要创建对象。\n",
    "\n",
    "    静态方法不能访问实例变量和实例方法，只能访问静态变量和静态方法。\n",
    "\n"
   ]
  },
  {
   "cell_type": "code",
   "execution_count": null,
   "metadata": {},
   "outputs": [],
   "source": [
    "public class MyClass {\n",
    "    static void staticMethod() {\n",
    "        System.out.println(\"This is a static method.\");\n",
    "    }\n",
    "}"
   ]
  },
  {
   "cell_type": "markdown",
   "metadata": {},
   "source": [
    "## constants"
   ]
  },
  {
   "cell_type": "code",
   "execution_count": null,
   "metadata": {},
   "outputs": [],
   "source": [
    "final <data type><identifier/constantName> = <value>;//constantsName always uppercase"
   ]
  },
  {
   "cell_type": "markdown",
   "metadata": {},
   "source": [
    "## escape sequences"
   ]
  },
  {
   "cell_type": "code",
   "execution_count": null,
   "metadata": {},
   "outputs": [],
   "source": [
    "\\b  //backspace\n",
    "\\t  //Tab\n",
    "\\n  //newline\n",
    "\\\"  //double quote\n",
    "\\'  //single quote\n",
    "\\\\  //backslash"
   ]
  },
  {
   "cell_type": "markdown",
   "metadata": {},
   "source": [
    "## input"
   ]
  },
  {
   "cell_type": "code",
   "execution_count": null,
   "metadata": {},
   "outputs": [],
   "source": [
    "import java.util.Scanner;\n",
    "\n",
    "public class ReadingInputExample {\n",
    "    public static void main(String[] args) {\n",
    "        Scanner scanner = new Scanner(System.in);\n",
    "\n",
    "        System.out.print(\"Enter your name: \");\n",
    "        String name = scanner.nextLine();//string input\n",
    "\n",
    "        System.out.print(\"Enter your age: \");\n",
    "        int age = scanner.nextInt();//int input\n",
    "\n",
    "        System.out.print(\"Enter your salary: \");\n",
    "        double salary = scanner.nextDouble();//double input\n",
    "\n",
    "        System.out.println(\"Name: \" + name);\n",
    "        System.out.println(\"Age: \" + age);\n",
    "        System.out.println(\"Salary: \" + salary);\n",
    "\n",
    "        scanner.close();//no need\n",
    "    }\n",
    "}"
   ]
  },
  {
   "cell_type": "markdown",
   "metadata": {},
   "source": [
    "---------------------------------------------------------------------------------------"
   ]
  },
  {
   "cell_type": "markdown",
   "metadata": {},
   "source": [
    "# class & object"
   ]
  },
  {
   "cell_type": "code",
   "execution_count": null,
   "metadata": {},
   "outputs": [],
   "source": [
    "//class difinition\n",
    "public class Student{\n",
    "    //difinition attributes\n",
    "    String name;\n",
    "    int sid;\n",
    "\n",
    "    //creat main method in class\n",
    "    public static void main(String[] args){\n",
    "        //creat object\n",
    "        Student s1 = new Student();\n",
    "\n",
    "        s1.name = \"Sam\";\n",
    "        s1.sid = 123456;\n",
    "    }\n",
    "}\n",
    "\n",
    "//creat method out of class(in same package or correct import)\n",
    "class TestStudent{\n",
    "    public static void main(String[] args){\n",
    "        //creat object\n",
    "        Student s2 = new Student();\n",
    "\n",
    "        s2.name = \"Tom\";\n",
    "        s2.sid = 654321;\n",
    "    }\n",
    "}\n"
   ]
  },
  {
   "cell_type": "markdown",
   "metadata": {},
   "source": [
    "## access modifiers 访问修饰符"
   ]
  },
  {
   "cell_type": "markdown",
   "metadata": {},
   "source": [
    "### public\n",
    "can be accessed throughout the project"
   ]
  },
  {
   "cell_type": "code",
   "execution_count": null,
   "metadata": {},
   "outputs": [],
   "source": [
    "public class MyClass {\n",
    "    // content\n",
    "}"
   ]
  },
  {
   "cell_type": "markdown",
   "metadata": {},
   "source": [
    "### private\n",
    "only be accessed inside the class"
   ]
  },
  {
   "cell_type": "code",
   "execution_count": null,
   "metadata": {},
   "outputs": [],
   "source": [
    "public class MyClass {\n",
    "    private int myVariable;\n",
    "    \n",
    "    private void myMethod() {\n",
    "        // method code\n",
    "    }\n",
    "}"
   ]
  },
  {
   "cell_type": "markdown",
   "metadata": {},
   "source": [
    "---------------------------------------------------------------------------------------"
   ]
  },
  {
   "cell_type": "markdown",
   "metadata": {},
   "source": [
    "# method"
   ]
  },
  {
   "cell_type": "markdown",
   "metadata": {},
   "source": [
    "## method definition"
   ]
  },
  {
   "cell_type": "code",
   "execution_count": null,
   "metadata": {},
   "outputs": [],
   "source": [
    "<Access modifier> <Return type> <Method name>(<Parameter list>){\n",
    "    // <Access modifier> always be public\n",
    "\n",
    "    // void -> if no return value ***允许有return字段（一般用于退出某个功能）但不能有返回值return value\n",
    "    \n",
    "    // <Parameter list> -> (<type1> <name1>, <type2> <name2>) e.g. (int i, int j, int k)\n",
    "\n",
    "    // Method body\n",
    "    // Return statement (if applicable)\n",
    "}"
   ]
  },
  {
   "cell_type": "markdown",
   "metadata": {},
   "source": [
    "## method call"
   ]
  },
  {
   "cell_type": "code",
   "execution_count": null,
   "metadata": {},
   "outputs": [],
   "source": [
    "<Return-type> aVariable = <Method-name>(<aVariable list>);\n",
    "//or\n",
    "<Method-name>(<aVariable list>); //if return type is void\n",
    "\n",
    "//e.g.\n",
    "//method definition\n",
    "public int add(int a, int b){\n",
    "    return a+b;\n",
    "}\n",
    "\n",
    "//method call\n",
    "int c = add(2,3);\n",
    "//or\n",
    "add(2, 3);\n",
    "//or\n",
    "int x = 2, y = 3;\n",
    "add(x, y);"
   ]
  },
  {
   "cell_type": "markdown",
   "metadata": {},
   "source": [
    "## member function"
   ]
  },
  {
   "cell_type": "markdown",
   "metadata": {},
   "source": [
    "### getter"
   ]
  },
  {
   "cell_type": "code",
   "execution_count": null,
   "metadata": {},
   "outputs": [],
   "source": [
    "public class Student {\n",
    "    private String name;\n",
    "    private int sid;\n",
    "     ...\n",
    "    // Getters\n",
    "    public String getName() {\n",
    "    return name;\n",
    "    }\n",
    "    public int getSid() {\n",
    "    return sid;\n",
    "    }\n",
    "}\n",
    "   "
   ]
  },
  {
   "cell_type": "markdown",
   "metadata": {},
   "source": [
    "### setter"
   ]
  },
  {
   "cell_type": "code",
   "execution_count": null,
   "metadata": {},
   "outputs": [],
   "source": [
    "public class Student {\n",
    "    private String name;\n",
    "    private int sid;\n",
    "    ...\n",
    "    // Setters\n",
    "    public void setName(String inputName) {\n",
    "      name = inputName;\n",
    "    }\n",
    "    public void setSid(int inputSid) {\n",
    "      sid = inputSid;\n",
    "    }\n",
    "}\n",
    "  "
   ]
  },
  {
   "cell_type": "markdown",
   "metadata": {},
   "source": [
    "### toString"
   ]
  },
  {
   "cell_type": "code",
   "execution_count": null,
   "metadata": {},
   "outputs": [],
   "source": [
    "public class Student {\n",
    "    private String name;\n",
    "    private int sid;\n",
    "    ...\n",
    "    //toString\n",
    "    public String toString() {\n",
    "        return \"Student: \" + name + \" (\" + sid + \")\";\n",
    "    }\n",
    "}"
   ]
  },
  {
   "cell_type": "markdown",
   "metadata": {},
   "source": [
    "### -full code-"
   ]
  },
  {
   "cell_type": "code",
   "execution_count": null,
   "metadata": {},
   "outputs": [],
   "source": [
    "public class Student {\n",
    "    private String name;\n",
    "    private int sid;\n",
    "     \n",
    "    // Setters\n",
    "    public void setName(String inputName) {\n",
    "        name = inputName;\n",
    "    }\n",
    "    public void setSid(int inputSid) {\n",
    "        sid = inputSid;\n",
    "    }\n",
    "\n",
    "    // Getters\n",
    "    public String getName() {\n",
    "    return name;\n",
    "    }\n",
    "    public int getSid() {\n",
    "    return sid;\n",
    "    }\n",
    "\n",
    "    //toString\n",
    "    public String toString() {\n",
    "        return \"Student: \" + name + \" (\" + sid + \")\";\n",
    "    }\n",
    "\n",
    "    //main\n",
    "    public static void main(String[] args) {\n",
    "        Student s1 = new Student(); // new -> Constructors构造函数\n",
    "        s1.setName(\"Bob\");\n",
    "        s1.setSid(12345);\n",
    "        System.out.println(s1.toString());\n",
    "    }\n",
    "}"
   ]
  },
  {
   "cell_type": "markdown",
   "metadata": {},
   "source": [
    "## Method Overloading - Constructor\n",
    "允许多个方法具有相同的名称，但它们的参数列表不同"
   ]
  },
  {
   "cell_type": "markdown",
   "metadata": {},
   "source": [
    "#### 不同参数数量的重载：  （Lec里是这个）"
   ]
  },
  {
   "cell_type": "code",
   "execution_count": null,
   "metadata": {},
   "outputs": [],
   "source": [
    "public class Example {\n",
    "    public void display(int a) {\n",
    "        System.out.println(\"Argument: \" + a);\n",
    "    }\n",
    "\n",
    "    public void display(int a, int b) {\n",
    "        System.out.println(\"Arguments: \" + a + \", \" + b);\n",
    "    }\n",
    "}"
   ]
  },
  {
   "cell_type": "markdown",
   "metadata": {},
   "source": [
    "### 不同参数类型的重载："
   ]
  },
  {
   "cell_type": "code",
   "execution_count": null,
   "metadata": {},
   "outputs": [],
   "source": [
    "public class Example {\n",
    "    public void display(int a) {\n",
    "        System.out.println(\"Argument: \" + a);\n",
    "    }\n",
    "\n",
    "    public void display(String a) {\n",
    "        System.out.println(\"Argument: \" + a);\n",
    "    }\n",
    "}"
   ]
  },
  {
   "cell_type": "markdown",
   "metadata": {},
   "source": [
    "### 不同参数顺序的重载："
   ]
  },
  {
   "cell_type": "code",
   "execution_count": null,
   "metadata": {},
   "outputs": [],
   "source": [
    "public class Example {\n",
    "    public void display(int a, String b) {\n",
    "        System.out.println(\"Arguments: \" + a + \", \" + b);\n",
    "    }\n",
    "\n",
    "    public void display(String a, int b) {\n",
    "        System.out.println(\"Arguments: \" + a + \", \" + b);\n",
    "    }\n",
    "}"
   ]
  },
  {
   "cell_type": "markdown",
   "metadata": {},
   "source": [
    "## Math Class"
   ]
  },
  {
   "cell_type": "markdown",
   "metadata": {},
   "source": [
    "### import math class"
   ]
  },
  {
   "cell_type": "code",
   "execution_count": null,
   "metadata": {},
   "outputs": [],
   "source": [
    "import java.lang"
   ]
  },
  {
   "cell_type": "markdown",
   "metadata": {},
   "source": [
    "### PI"
   ]
  },
  {
   "cell_type": "code",
   "execution_count": null,
   "metadata": {},
   "outputs": [],
   "source": [
    "double radius = 10;\n",
    "double area = Math.PI * radius * radius;"
   ]
  },
  {
   "cell_type": "markdown",
   "metadata": {},
   "source": [
    "### Round function\n",
    "rounds to nearest integer"
   ]
  },
  {
   "cell_type": "code",
   "execution_count": null,
   "metadata": {},
   "outputs": [],
   "source": [
    "int roundedValue = Math.round(3.6);  // 4\n",
    "int roundedValue = Math.round(3.2);  // 3"
   ]
  },
  {
   "cell_type": "markdown",
   "metadata": {},
   "source": [
    "### Floor function (rounds down)"
   ]
  },
  {
   "cell_type": "code",
   "execution_count": null,
   "metadata": {},
   "outputs": [],
   "source": [
    "double x = Math.floor(3.14); // 3.0"
   ]
  },
  {
   "cell_type": "markdown",
   "metadata": {},
   "source": [
    "### Ceiling function (rounds up)"
   ]
  },
  {
   "cell_type": "code",
   "execution_count": null,
   "metadata": {},
   "outputs": [],
   "source": [
    "double y = Math.ceil(3.14); // 4.0"
   ]
  },
  {
   "cell_type": "markdown",
   "metadata": {},
   "source": [
    "### Absolute value (abs)"
   ]
  },
  {
   "cell_type": "code",
   "execution_count": null,
   "metadata": {},
   "outputs": [],
   "source": [
    "double z = Math.abs(-3.14); // 3.14"
   ]
  },
  {
   "cell_type": "markdown",
   "metadata": {},
   "source": [
    "### Maximum/minimum value (max, min)"
   ]
  },
  {
   "cell_type": "code",
   "execution_count": null,
   "metadata": {},
   "outputs": [],
   "source": [
    "int max = Math.max(10, 20); // 20\n",
    "int min = Math.min(10, 20); // 10"
   ]
  },
  {
   "cell_type": "markdown",
   "metadata": {},
   "source": [
    "### Square root (sqrt)"
   ]
  },
  {
   "cell_type": "code",
   "execution_count": null,
   "metadata": {},
   "outputs": [],
   "source": [
    "double a = Math.sqrt(16); // 4.0"
   ]
  },
  {
   "cell_type": "markdown",
   "metadata": {},
   "source": [
    "### Power function (pow -> x^y)"
   ]
  },
  {
   "cell_type": "code",
   "execution_count": null,
   "metadata": {},
   "outputs": [],
   "source": [
    "double b = Math.pow(2, 3); // 8.0"
   ]
  },
  {
   "cell_type": "markdown",
   "metadata": {},
   "source": [
    "### Random number\n",
    "Math.random() returns a random number between 0.0 (inclusive), and 1.0 (exclusive) -> [0.0, 1.0)"
   ]
  },
  {
   "cell_type": "code",
   "execution_count": null,
   "metadata": {},
   "outputs": [],
   "source": [
    "double random = Math.random(); // [0.0, 1.0)\n",
    "\n",
    "// to output a random number between min and max:\n",
    "int min = 10;\n",
    "int max = 20;\n",
    "int range = max - min + 1;\n",
    "int random = (int)(Math.random() * range) + min;"
   ]
  },
  {
   "cell_type": "markdown",
   "metadata": {},
   "source": [
    "## String Class&Method\n",
    "String is the only class whose instances can be created without the keyword new\n",
    "Once created, the value of the string cannot be changed"
   ]
  },
  {
   "cell_type": "markdown",
   "metadata": {},
   "source": [
    "### length()\n",
    "Returns the length"
   ]
  },
  {
   "cell_type": "code",
   "execution_count": null,
   "metadata": {},
   "outputs": [],
   "source": [
    "String str = \"Hello World\";\n",
    "int a = str.length();"
   ]
  },
  {
   "cell_type": "markdown",
   "metadata": {},
   "source": [
    "### trim()\n",
    "Returns a copy of the string which removing any leading and trailing whitespace"
   ]
  },
  {
   "cell_type": "code",
   "execution_count": null,
   "metadata": {},
   "outputs": [],
   "source": [
    "String str = \"   HelloWorld!  \";\n",
    "String b = str.trim();"
   ]
  },
  {
   "cell_type": "markdown",
   "metadata": {},
   "source": [
    "### charAt()\n",
    "Returns the character at the specified index"
   ]
  },
  {
   "cell_type": "code",
   "execution_count": null,
   "metadata": {},
   "outputs": [],
   "source": [
    "String str = \"Hello World\";\n",
    "char c = str.charAt(1);"
   ]
  },
  {
   "cell_type": "markdown",
   "metadata": {},
   "source": [
    "### indexOf()\n",
    "Returns the index within the string of the first occurrence of the specified character"
   ]
  },
  {
   "cell_type": "code",
   "execution_count": null,
   "metadata": {},
   "outputs": [],
   "source": [
    "String str = \"Hello World\";\n",
    "\n",
    "int d = str.indexOf('o');// return 4\n",
    "\n",
    "int e = str.indexOf('o', 5);// return 7\n",
    "//or\n",
    "int e = str.indexOf('o', d+1);// return 7\n",
    "\n",
    "int f = str.indexOf('z');// return -1"
   ]
  },
  {
   "cell_type": "markdown",
   "metadata": {},
   "source": [
    "### substring()\n",
    "Extract substrings from strings"
   ]
  },
  {
   "cell_type": "code",
   "execution_count": null,
   "metadata": {},
   "outputs": [],
   "source": [
    "String str = \"HelloWorld\"; \n",
    "\n",
    "//substring(int beginIndex) -> 从指定的起始索引开始，提取到字符串的末尾\n",
    "String subStr = str.substring(5); // \"World\"\n",
    "\n",
    "//or\n",
    "\n",
    "//substring[int beginIndex, int endIndex) -> 从指定的起始索引开始，提取到但不包括指定的结束索引\n",
    "String subStr = str.substring(0, 5); // \"Hello\""
   ]
  },
  {
   "cell_type": "markdown",
   "metadata": {},
   "source": [
    "## Type Conversion\n",
    "Convert between different data types"
   ]
  },
  {
   "cell_type": "markdown",
   "metadata": {},
   "source": [
    "#### 字符串转换为基本类型"
   ]
  },
  {
   "cell_type": "code",
   "execution_count": null,
   "metadata": {},
   "outputs": [],
   "source": [
    "String piStr = \"3.14159\";\n",
    "float piFloat = Float.parseFloat(piStr);  // 将字符串转换为float\n",
    "double piDouble = Double.parseDouble(piStr);  // 将字符串转换为double"
   ]
  },
  {
   "cell_type": "markdown",
   "metadata": {},
   "source": [
    "#### 基本类型转换为字符串"
   ]
  },
  {
   "cell_type": "code",
   "execution_count": null,
   "metadata": {},
   "outputs": [],
   "source": [
    "double piDouble = 3.14159;\n",
    "String piStr = Double.toString(piDouble);  // 将double转换为字符串\n",
    "// or\n",
    "String piStr = \"\" + piDouble;  // 通过字符串连接将double转换为字符串"
   ]
  },
  {
   "cell_type": "markdown",
   "metadata": {},
   "source": [
    "---------------------------------------------------------------------------------------"
   ]
  },
  {
   "cell_type": "markdown",
   "metadata": {},
   "source": [
    "# Conditional Statements\n",
    "    if 语句和 switch 语句不能完全相互替代。"
   ]
  },
  {
   "cell_type": "markdown",
   "metadata": {},
   "source": [
    "## if statements"
   ]
  },
  {
   "cell_type": "code",
   "execution_count": null,
   "metadata": {},
   "outputs": [],
   "source": [
    "public class Main{\n",
    "    public static void main(String[] args){\n",
    "        int temp = 32;\n",
    "\n",
    "        if (temp > 30){\n",
    "            System.out.println(\"hot day\");\n",
    "        } else if (temp > 20 && temp <= 30){\n",
    "            System.out.println(\"good day\");\n",
    "        } else{\n",
    "            System.out.println(\"cood day\");\n",
    "        }\n",
    "\n",
    "        //Simple code, remove unnecessary parentheses{} and codes\n",
    "\n",
    "        if (temp > 30){\n",
    "            System.out.println(\"hot day\");\n",
    "        }\n",
    "        else if (temp > 20)//logical equivalence to (temp > 20 && temp <= 30)\n",
    "            System.out.println(\"good day\");\n",
    "        else\n",
    "            System.out.println(\"cood day\");\n",
    "        \n",
    "    }\n",
    "}"
   ]
  },
  {
   "cell_type": "markdown",
   "metadata": {},
   "source": [
    "## Data Comparison\n",
    "    Compare by Unicode:\n",
    "\n",
    "    0-9     48-57\n",
    "    A-Z     65-90\n",
    "    a-z     97-122"
   ]
  },
  {
   "cell_type": "markdown",
   "metadata": {},
   "source": [
    "### equals method -> return Boolean\n",
    "determine if two strings contain exactly the same characters in the same order"
   ]
  },
  {
   "cell_type": "code",
   "execution_count": null,
   "metadata": {},
   "outputs": [],
   "source": [
    "String str1, str2;\n",
    " …\n",
    " if (str1.equals(str2)) { … }// true or false"
   ]
  },
  {
   "cell_type": "markdown",
   "metadata": {},
   "source": [
    "### compareTo method\n",
    "     determining if one string comes before anothe:\n",
    "\n",
    "     \"aac\" is less than \"abc\"\n",
    "     \"abc\" is less than \"abcd\"\n",
    "\n",
    "     str1.compareTo(str2)\n",
    "          return 0 -> str1 equal to str2\n",
    "          return a negative value (<0) -> str1 is less than str2"
   ]
  },
  {
   "cell_type": "code",
   "execution_count": null,
   "metadata": {},
   "outputs": [],
   "source": [
    "public class Main{\n",
    "    public static void main(String[] args){\n",
    "        String str1 = \"Hello\";\n",
    "        String str2 = \"Hello\";\n",
    "        String str3 = \"hello\";\n",
    "\n",
    "        System.out.println(str1.compareTo(str2)); // return 0\n",
    "        System.out.println(str1.compareTo(str3)); // return -32\n",
    "        System.out.println(str3.compareTo(str1)); // return 32\n",
    "    }\n",
    "}"
   ]
  },
  {
   "cell_type": "markdown",
   "metadata": {},
   "source": [
    "## switch"
   ]
  },
  {
   "cell_type": "code",
   "execution_count": null,
   "metadata": {},
   "outputs": [],
   "source": [
    "switch (caseObject){//values are possible cases of caseObject\n",
    "    case value1 :\n",
    "        statement-list1\n",
    "        break;\n",
    "    case value2 :\n",
    "        statement-list2\n",
    "        break;\n",
    "    default:\n",
    "        statement-list3\n",
    "}"
   ]
  },
  {
   "cell_type": "markdown",
   "metadata": {},
   "source": [
    "## Conditional Operator (?:) -> The Ternary Operator"
   ]
  },
  {
   "cell_type": "code",
   "execution_count": null,
   "metadata": {},
   "outputs": [],
   "source": [
    "public class Main{\n",
    "    public static void main(String[] args){\n",
    "\n",
    "        int income = 120;\n",
    "\n",
    "        String calssName = income > 120 ? \"First\" : \"Economy\";//if income > 120 is true, then return \"First\", otherwise return \"Economy\"\n",
    "\n",
    "        //String calssName;\n",
    "        //if (income > 120)\n",
    "            //calssName = \"First\";\n",
    "        //else\n",
    "            //classname = \"Economy\"\n",
    "    }\n",
    "}"
   ]
  },
  {
   "cell_type": "markdown",
   "metadata": {},
   "source": [
    "---------------------------------------------------------------------------------------"
   ]
  },
  {
   "cell_type": "markdown",
   "metadata": {},
   "source": [
    "# Java Loop\n",
    "    for 循环和 while 循环在Java中可以相互替代"
   ]
  },
  {
   "cell_type": "markdown",
   "metadata": {},
   "source": [
    "## for loop"
   ]
  },
  {
   "cell_type": "code",
   "execution_count": null,
   "metadata": {},
   "outputs": [],
   "source": [
    "// for(initialization; condition; post_experssion){\n",
    "//     statement-list;\n",
    "// }\n",
    "\n",
    "//e.g.\n",
    "public class Main{\n",
    "    public static void main(String[] args){\n",
    "        for (int i  = 0; i < 5; i++)\n",
    "            System.out.println(\"Hi\");\n",
    "    }\n",
    "}"
   ]
  },
  {
   "cell_type": "markdown",
   "metadata": {},
   "source": [
    "## for-each loop"
   ]
  },
  {
   "cell_type": "code",
   "execution_count": null,
   "metadata": {},
   "outputs": [],
   "source": [
    "public class Main{\n",
    "    public static void main(String[] args){\n",
    "        String[] fruits = {\"apple\", \"mango\", \"orange\"};\n",
    "\n",
    "        for (int i = 0; i<fruits.length; i++)//if use index, use this\n",
    "            System.out.println(fruits[i]);\n",
    "\n",
    "        for (String fruit : fruits)//for-each loop: much easy, if index is no need\n",
    "            System.out.println(fruit);\n",
    "    }\n",
    "}"
   ]
  },
  {
   "cell_type": "markdown",
   "metadata": {},
   "source": [
    "## while loop"
   ]
  },
  {
   "cell_type": "code",
   "execution_count": null,
   "metadata": {},
   "outputs": [],
   "source": [
    "public class Main{\n",
    "    public static void main(String[] args){ \n",
    "        //for (int i  = 0; i < 5; i++)\n",
    "            //System.out.println(\"Hi\");\n",
    "        \n",
    "        int i = 0;\n",
    "        while (i < 5){\n",
    "            System.out.println(\"Hi\");\n",
    "            i++;\n",
    "        }\n",
    "    }\n",
    "}"
   ]
  },
  {
   "cell_type": "markdown",
   "metadata": {},
   "source": [
    "## do...while loop"
   ]
  },
  {
   "cell_type": "code",
   "execution_count": null,
   "metadata": {},
   "outputs": [],
   "source": [
    "public class Main{\n",
    "    public static void main(String[] args){\n",
    "        Scanner scanner = new Scanner(System.in);\n",
    "        String input;\n",
    "\n",
    "        do{//do one time at least\n",
    "            System.out.print(\"Input: \");\n",
    "            input = scanner.next().toLowerCase();\n",
    "            System.out.println(input);\n",
    "        }while (!input.equals(\"quate\"));\n",
    "    }\n",
    "}"
   ]
  },
  {
   "cell_type": "markdown",
   "metadata": {},
   "source": [
    "---------------------------------------------------------------------------------------"
   ]
  },
  {
   "cell_type": "markdown",
   "metadata": {},
   "source": [
    "# Java 集合框架"
   ]
  },
  {
   "cell_type": "markdown",
   "metadata": {},
   "source": [
    "## arraylist class"
   ]
  },
  {
   "cell_type": "code",
   "execution_count": null,
   "metadata": {},
   "outputs": [],
   "source": [
    "import java.util;\n",
    "//creat new array list\n",
    "ArrayList<String> listName = new ArrayList<String>();\n",
    "\n",
    "listName.add(object);//add at the end                               --> return type: boolean\n",
    "listName.add(index, object);//add at index                          --> return type: void\n",
    "\n",
    "listName.contains(object);//check whether object is in the list     --> return type: boollean\n",
    "listName.indexOf(object);//                                         --> return type: int/-1\n",
    "listName.remove(object);//remove the first occurrence of object      --> return type: boolean\n",
    "listName.remove(index);///remove the object at index                 --> return type: E （列表元素的类型）说明：该方法返回被移除的元素。\n",
    "listName.size();//                                                  --> return type: int\n",
    "listName.get(index);//get the element at index                      --> return type: E （列表元素的类型）说明：该方法返回指定索引位置的元素。\n",
    "listName.set(index, object);//                                      --> return type: E （列表元素的类型）说明：该方法返回被替换的元素。\n",
    "listName.clear();//clear all the elements                           --> return type: void"
   ]
  },
  {
   "cell_type": "markdown",
   "metadata": {},
   "source": [
    "## hashset class"
   ]
  },
  {
   "cell_type": "code",
   "execution_count": null,
   "metadata": {},
   "outputs": [],
   "source": [
    "import java.util;\n",
    "\n",
    "HashSet<String> setName = new HashSet<String>();\n",
    "\n",
    "setName.add(object); // return boolean type -> 如果对象成功添加到集合中，则返回 true；如果对象已经存在于集合中，则返回 false。\n",
    "setName.contains(object); // return boolean type \n",
    "setName.remove(object); // return boolean type\n",
    "setName.clear(); // return void type\n",
    "setName.size(); // return int type\n"
   ]
  },
  {
   "cell_type": "markdown",
   "metadata": {},
   "source": [
    "## 1. 集合框架概述\n",
    "Java 集合框架是一种提供了数据结构的工具集，用于存储、访问和操作数据。它包含了许多常用的接口和类，例如 `List`、`Set` 和 `Map`。\n",
    "\n",
    "---\n",
    "\n",
    "## 2. 常用集合类的区别\n",
    "\n",
    "### 2.1 `HashSet` vs `ArrayList`\n",
    "\n",
    "| 特性       | HashSet                                 | ArrayList                             |\n",
    "|------------|----------------------------------------|---------------------------------------|\n",
    "| 存储结构    | 哈希表                                    | 动态数组                              |\n",
    "| 是否有序    | 无序                                      | 按插入顺序                           |\n",
    "| 是否允许重复 | 否                                       | 是                                    |\n",
    "| 查找性能    | O(1)                                    | O(n)                                 |\n",
    "| 插入性能    | O(1)                                    | 末尾插入为 O(1)，插入到中间为 O(n)    |\n",
    "\n",
    "---\n",
    "\n",
    "### 2.2 使用场景\n",
    "- **HashSet**：适用于需要唯一性数据的场景，例如存储唯一的 ID。\n",
    "- **ArrayList**：适用于需要有序、允许重复的数据的场景，例如操作记录或任务列表。\n",
    "\n",
    "---\n",
    "\n",
    "## 3. 代码示例\n",
    "\n",
    "```java\n",
    "import java.util.HashSet;\n",
    "import java.util.ArrayList;\n",
    "\n",
    "public class CollectionExample {\n",
    "    public static void main(String[] args) {\n",
    "        // HashSet 示例\n",
    "        HashSet<String> hashSet = new HashSet<>();\n",
    "        hashSet.add(\"Java\");\n",
    "        hashSet.add(\"Python\");\n",
    "        hashSet.add(\"Java\"); // 重复项，不会添加\n",
    "        System.out.println(\"HashSet 内容: \" + hashSet);\n",
    "\n",
    "        // ArrayList 示例\n",
    "        ArrayList<String> arrayList = new ArrayList<>();\n",
    "        arrayList.add(\"Java\");\n",
    "        arrayList.add(\"Python\");\n",
    "        arrayList.add(\"Java\"); // 允许重复项\n",
    "        System.out.println(\"ArrayList 内容: \" + arrayList);\n",
    "    }\n",
    "}"
   ]
  },
  {
   "cell_type": "markdown",
   "metadata": {},
   "source": [
    "## Array\n",
    "contains elements of a similar data type\n",
    "\n",
    "    数组的基本操作：\n",
    "\n",
    "        访问元素：通过索引访问数组中的元素，例如 array[index]。\n",
    "\n",
    "        修改元素：通过索引修改数组中的元素，例如 array[index] = value。\n",
    "\n",
    "        获取数组长度：使用 array.length 获取数组的长度。"
   ]
  },
  {
   "cell_type": "code",
   "execution_count": null,
   "metadata": {},
   "outputs": [],
   "source": [
    "// Array Declaration:\n",
    "// datatype [] arrayRefVar = new dataType[arraySize];\n",
    "\n",
    "class ArrayDemo {\n",
    "    public static void main(String[] args) {\n",
    "        int[] arr = new int[5]; // fixed size -> 5 elements in arr\n",
    "        arr[0] = 10;\n",
    "        arr[1] = 20;\n",
    "        arr[2] = 30;\n",
    "        arr[3] = 40;\n",
    "        arr[4] = 50;\n",
    "\n",
    "        //or\n",
    "\n",
    "        int[] arr1 = {10, 20, 30, 40, 50};\n",
    "\n",
    "        //or\n",
    "\n",
    "        int[] arr2 = new int[]{10, 20, 30, 40, 50};\n",
    "\n",
    "        //or\n",
    "\n",
    "        int[] arr3;\n",
    "\n",
    "\n",
    "        System.out.println(\"Array elements are: \");\n",
    "        for (int i = 0; i < arr.length; i++) {\n",
    "            System.out.println(arr[i]);\n",
    "        }\n",
    "    }\n",
    "}"
   ]
  },
  {
   "cell_type": "code",
   "execution_count": null,
   "metadata": {},
   "outputs": [],
   "source": [
    "class MyClass {\n",
    "    private String name;\n",
    "\n",
    "    // 构造方法\n",
    "    public MyClass(String name) {\n",
    "        this.name = name;\n",
    "    }\n",
    "\n",
    "    // 获取名称的方法\n",
    "    public String getName() {\n",
    "        return name;\n",
    "    }\n",
    "\n",
    "    // 设置名称的方法\n",
    "    public void setName(String name) {\n",
    "        this.name = name;\n",
    "    }\n",
    "\n",
    "    @Override\n",
    "    public String toString() {\n",
    "        return \"MyClass{name='\" + name + \"'}\";\n",
    "    }\n",
    "}\n",
    "\n",
    "public class Main {\n",
    "    public static void main(String[] args) {\n",
    "        // 创建一个长度为10的对象数组\n",
    "        MyClass[] objectArray = new MyClass[10];\n",
    "\n",
    "        // 初始化数组中的每个元素\n",
    "        for (int i = 0; i < objectArray.length; i++) {\n",
    "            objectArray[i] = new MyClass(\"Object \" + (i + 1));\n",
    "        }\n",
    "\n",
    "        // 打印数组中的每个元素\n",
    "        System.out.println(Arrays.toString(objectArray));\n",
    "    }\n",
    "}"
   ]
  },
  {
   "cell_type": "markdown",
   "metadata": {},
   "source": [
    "### Passing an Array To Method\n",
    "    方法内部对数组所做的任何更改都会影响原始数组"
   ]
  },
  {
   "cell_type": "code",
   "execution_count": null,
   "metadata": {},
   "outputs": [],
   "source": [
    "public class ArrayExample {\n",
    "    public static void main(String[] args) {\n",
    "        int[] numbers = {1, 2, 3, 4, 5};\n",
    "        printArray(numbers);\n",
    "    }\n",
    "\n",
    "    public static void printArray(int[] array) {\n",
    "        for (int num : array) {\n",
    "            System.out.println(num);\n",
    "        }\n",
    "    }\n",
    "}"
   ]
  },
  {
   "cell_type": "markdown",
   "metadata": {},
   "source": [
    "### Returning an Array from Method\n",
    "    lin 4 -> return type is \"int[]\" -> 返回一个整数数组"
   ]
  },
  {
   "cell_type": "code",
   "execution_count": null,
   "metadata": {},
   "outputs": [],
   "source": [
    "public class Main {\n",
    "\n",
    "    // method to create and return an array\n",
    "    private static int[] createArray() { // int[]：这是方法的返回类型，表示该方法返回一个整数数组。\n",
    "        // integer array\n",
    "        int[] anArray = {10, 20, 30, 40, 50, 60, 70, 80};\n",
    "        return anArray;\n",
    "    }\n",
    "\n",
    "    public static void main(String[] args) {\n",
    "        // call printArray method by passing intArray as an argument\n",
    "        int[] intArray = createArray();\n",
    "\n",
    "        System.out.println(\"Array contents printed through method:\");\n",
    "\n",
    "        // print individual elements of array using enhanced for loop\n",
    "        for (int val : intArray) {\n",
    "            System.out.print(val + \" \");\n",
    "        }\n",
    "    }\n",
    "}"
   ]
  },
  {
   "cell_type": "markdown",
   "metadata": {},
   "source": [
    "---------------------------------------------------------------------------------------"
   ]
  },
  {
   "cell_type": "markdown",
   "metadata": {},
   "source": [
    "# Exception Handling"
   ]
  },
  {
   "cell_type": "markdown",
   "metadata": {},
   "source": [
    "## try-catch"
   ]
  },
  {
   "cell_type": "code",
   "execution_count": null,
   "metadata": {},
   "outputs": [],
   "source": [
    "// no try-eatch\n",
    "public class Example1 {\n",
    "    public static void main(String[] args) {\n",
    "        int a = 10;\n",
    "        int b = 0;\n",
    "        int result = a / b; // 这将引发 ArithmeticException\n",
    "        System.out.println(\"Result: \" + result);\n",
    "    }\n",
    "}\n",
    "\n",
    "// ues try-eatch\n",
    "public class Example2 {\n",
    "    public static void main(String[] args) {\n",
    "        int a = 10;\n",
    "        int b = 0;\n",
    "        try {\n",
    "            int result = a / b; // 这将引发 ArithmeticException\n",
    "            System.out.println(\"Result: \" + result);\n",
    "        } catch (ArithmeticException e) {\n",
    "            System.out.println(\"Cannot divide by zero.\");\n",
    "        } finally {\n",
    "            System.out.println(\"This is the finally block.\");\n",
    "        }\n",
    "\n",
    "    }\n",
    "}\n",
    "\n",
    "// try 块中的代码引发了 ArithmeticException，但由于有 catch 子句，程序捕获了异常并输出 \"Cannot divide by zero.\"，而不是终止执行。"
   ]
  },
  {
   "cell_type": "markdown",
   "metadata": {},
   "source": [
    "## finally"
   ]
  },
  {
   "cell_type": "code",
   "execution_count": null,
   "metadata": {},
   "outputs": [],
   "source": [
    "public class Example3 {\n",
    "    public static void main(String[] args) {\n",
    "        int a = 10;\n",
    "        int b = 0;\n",
    "        try {\n",
    "            int result = a / b; // 这将引发 ArithmeticException\n",
    "            System.out.println(\"Result: \" + result);\n",
    "        } catch (ArithmeticException e) {\n",
    "            System.out.println(\"Cannot divide by zero.\");\n",
    "        } finally {\n",
    "            System.out.println(\"This will always be executed.\");\n",
    "        }\n",
    "    }\n",
    "}\n",
    "\n",
    "// 无论是否引发异常，finally 子句中的代码都会执行，输出 \"This will always be executed.\""
   ]
  },
  {
   "cell_type": "markdown",
   "metadata": {},
   "source": [
    "---------------------------------------------------------------------------------------"
   ]
  },
  {
   "cell_type": "markdown",
   "metadata": {},
   "source": [
    "# Inheritance 继承\n",
    "\n",
    "> parent class (superclass / base class)\n",
    "\n",
    "> child class (subclass)\n",
    "\n",
    "## Multiple/Single Inheritance\n",
    "\n",
    "> Multiple --> one subclass - **numbers of superclasses**\n",
    "\n",
    ">Single --> one subclass - **one superclass**   -->**Java support**\n",
    "\n"
   ]
  },
  {
   "cell_type": "markdown",
   "metadata": {},
   "source": [
    "## Constructor of Subclass\n",
    "\n",
    ">- with `extends` load Superclass\n",
    "\n",
    "```java\n",
    "class SubClassName extends SuperclassName(){\n",
    "\n",
    "    // Additional attribute\n",
    "\n",
    "    // Constructor\n",
    "\n",
    "    // Refind method\n",
    "\n",
    "    // Additional method\n",
    "\n",
    "}\n",
    "```\n",
    "\n",
    ">- `super` in constructor \n",
    "\n",
    "```java\n",
    "// Superclass\n",
    "public Employee(String n, double s) {\n",
    "    name = n;\n",
    "    salary = s;\n",
    "}\n",
    "\n",
    "// Sunclass\n",
    "public Manager(String n, double s, double b) {\n",
    "    super(n, s); // 调用父类构造函数\n",
    "    bonus = b;\n",
    "}\n",
    "```"
   ]
  },
  {
   "cell_type": "code",
   "execution_count": null,
   "metadata": {},
   "outputs": [],
   "source": [
    "class Employee { // Superclass\n",
    "    String name;\n",
    "    double salary;\n",
    "\n",
    "    //constructor\n",
    "    public Employee(String n, double s) {\n",
    "        name = n;\n",
    "        salary = s;\n",
    "    }\n",
    "}"
   ]
  },
  {
   "cell_type": "code",
   "execution_count": null,
   "metadata": {},
   "outputs": [],
   "source": [
    "class Manager extends Employee { //Subclass --> Superclass\n",
    "    //Additional attribute\n",
    "    double bonus;\n",
    "\n",
    "    //constructor\n",
    "    public Manager(String n, double s, double b) {\n",
    "        super(n, s); // 调用父类构造函数\n",
    "        bonus = b;\n",
    "    }\n",
    "}"
   ]
  },
  {
   "cell_type": "markdown",
   "metadata": {},
   "source": [
    "## Overriding Methods\n",
    "\n",
    "- Subclass **override** the definition of an inherited method\n",
    "\n",
    "### Overriding Rule\n",
    "1. **Same Signature**\n",
    "  - The new method must have the same **signature** (return type, method name, parameter list) as superclass method. \n",
    "  \n",
    "  - **Method Body can have different body**\n",
    "\n"
   ]
  },
  {
   "cell_type": "code",
   "execution_count": null,
   "metadata": {},
   "outputs": [],
   "source": [
    "// Superclass\n",
    "class ASuperclass{\n",
    "    public void aMethod(int i){\n",
    "        System.out.println(\"Method in Superclass\");\n",
    "    }\n",
    "}"
   ]
  },
  {
   "cell_type": "code",
   "execution_count": null,
   "metadata": {},
   "outputs": [],
   "source": [
    "// Subclass\n",
    "class ASubclass extends ASuperclass{\n",
    "    // Method overriding\n",
    "    public void aMethod(int i){ // --> same return type, method, parameter list\n",
    "        System.out.println(\"This is a method from ASubclass\");\n",
    "    }\n",
    "}"
   ]
  },
  {
   "cell_type": "markdown",
   "metadata": {},
   "source": [
    "### Overriding Rule"
   ]
  },
  {
   "cell_type": "markdown",
   "metadata": {},
   "source": [
    "#### Use **super** to call the parent class method\n",
    "- A method in Superclass can be invoked by **super** reference. "
   ]
  },
  {
   "cell_type": "code",
   "execution_count": null,
   "metadata": {},
   "outputs": [],
   "source": [
    "// Subclass\n",
    "public double getSalary() {\n",
    "    double base = super.getSalary(); // 调用父类方法\n",
    "    return base + bonus;\n",
    "}"
   ]
  },
  {
   "cell_type": "markdown",
   "metadata": {},
   "source": [
    "#### **Final** modifier\n",
    "- If method is declear with the **final** modifier, it **can't** be overridden."
   ]
  },
  {
   "cell_type": "code",
   "execution_count": null,
   "metadata": {},
   "outputs": [],
   "source": [
    "// Superclass\n",
    "class Employee {\n",
    "    public final void calculateTax() { ... } // 不可覆盖\n",
    "}"
   ]
  },
  {
   "cell_type": "markdown",
   "metadata": {},
   "source": [
    "### Overriding vs. Overloading vs. New Methods  \n",
    "| **Scenario**          | **Description**                          | **Examples**                              |  \n",
    "|------------------------|-------------------------------------------|-------------------------------------------|  \n",
    "| **Overriding**         | Same method signature and return type.    | `public double getSalary() { ... }`       |  \n",
    "| **Overloading**        | Same method name, different parameters.   | `public double getSalary(double bonus)`   |  \n",
    "| **New Method**         | Unique method name in the child class.    | `public double getWage() { ... }`         |  "
   ]
  },
  {
   "cell_type": "markdown",
   "metadata": {},
   "source": [
    "---"
   ]
  },
  {
   "cell_type": "markdown",
   "metadata": {},
   "source": [
    "## Class Hierarchies 类层次结构\n",
    "\n",
    "### A Subclass of one Superclass can be the Superclass of another Subclass.\n",
    "- **Sibling 兄弟类**: Two Subclasses of the same Superclass are called \n",
    "\n",
    "### When to use\n",
    "-  Inheritance is appropriate when a particular case \"is a\" general existing case (the is-a relationship)\n"
   ]
  },
  {
   "cell_type": "markdown",
   "metadata": {},
   "source": [
    "## Object Class\n",
    "- **Root**: All Java classes inherit directly or indirectly from **java.lang.Object**\n",
    "- **Default inheritance**: When the parent class is not explicitly specified, the Object is inherited by default\n",
    "- Every time we define the toString method, we are actually **overriding an inherited definition**\n",
    "\n",
    "### Example: toString() Method\n",
    "1. **Not Overriding toString() Method**\n",
    "```java\n",
    "public class Student int rollno{\n",
    "    String name;\n",
    "    String city;\n",
    "    public Student (int rollno, String name, String city){\n",
    "        this.rollno=rollno;\n",
    "        this.name=name; this.city=city;\n",
    "    }\n",
    "    public static void main (String args []){\n",
    "        Student sl=new Student (1, \"Alvin\", \"Hong Kong\");\n",
    "        Student s2-new Student (2, \"Rachel\", \"Japan\");\n",
    "        System.out.printin (sl); //return a string with a hash code (name of the object's class)\n",
    "        System.out.println (s2);\n",
    "    }\n",
    "}\n",
    "```\n",
    "\n",
    "2. **Overriding toString() Method**\n",
    "\n",
    "```java\n",
    "@Override\n",
    "public String toString() {\n",
    "    return rollno + \" \" + name + \" \" + city; // return by this way\n",
    "}\n",
    "```"
   ]
  },
  {
   "cell_type": "markdown",
   "metadata": {},
   "source": [
    "## **Abstract Classes**\n",
    "\n",
    "### For Superclass\n",
    "```java\n",
    "public abstract class AnAbstractClass {\n",
    " // Class contents\n",
    "}\n",
    "```\n",
    "- Often contains one of more `abstract methods` no definitions. (Not a must)\n",
    "- Typically contains `non-abstract methods` with `full definitions`. (Not a must)\n",
    "\n",
    "- **Note**: \n",
    "    1. The `abstract modifier` must be applied to **each** abstract method\n",
    "    \n",
    "    2. An abstract method **cannot be defined as `final` or `private`**\n",
    "\n",
    "\n"
   ]
  },
  {
   "cell_type": "code",
   "execution_count": null,
   "metadata": {},
   "outputs": [],
   "source": [
    "// Abstract Superclass\n",
    "abstract class Person {\n",
    "    String name;\n",
    "    \n",
    "    public Person(String n) { \n",
    "        name = n; \n",
    "    }\n",
    "        \n",
    "    public void setName(String n) { \n",
    "        name = n; \n",
    "    }\n",
    "    public String getName() { \n",
    "        return name; \n",
    "    }\n",
    "    \n",
    "    // Abstract method: No definition\n",
    "    public abstract String getDescription();\n",
    "}"
   ]
  },
  {
   "cell_type": "markdown",
   "metadata": {},
   "source": [
    "### For Subclass\n",
    "- **Note**\n",
    "    1. The Subclass of an abstract Superclass **`must override the abstract methods`** of the Superclass, **`or it too will be considered abstract(自身必须声明为抽象类)`**\n",
    "    \n",
    "    2. An abstract class cannot be instantiated\n",
    "    ```java\n",
    "        Person aPerson = new Person(\"Micky Mouse\");  // Illegal\n",
    "    ```\n"
   ]
  },
  {
   "cell_type": "code",
   "execution_count": null,
   "metadata": {},
   "outputs": [],
   "source": [
    "// Subclass\n",
    "class Student extends Person {\n",
    "    String major;\n",
    "    public Student(String n, String m) { \n",
    "        super(n); \n",
    "        major = m; \n",
    "    }\n",
    "    \n",
    "    public String getDescription() {  // Method overriding\n",
    "      return \"A student majoring in \" + major;\n",
    "    }\n",
    "}\n",
    "  "
   ]
  },
  {
   "cell_type": "markdown",
   "metadata": {},
   "source": [
    "### Example of Abstract Class"
   ]
  },
  {
   "cell_type": "code",
   "execution_count": null,
   "metadata": {},
   "outputs": [],
   "source": [
    "// Abstract Superclass --- Shape\n",
    "public abstract class Shape {\n",
    "    private String objectName;\n",
    "    private static int indentPos = 4; // 静态字段，所有子类共享\n",
    "\n",
    "    public Shape(String name) { \n",
    "        this.objectName = name; \n",
    "    }\n",
    "\n",
    "    // 非抽象方法：子类可直接使用或覆盖\n",
    "    public void setIndentPos(int pos) { \n",
    "        indentPos = pos; \n",
    "    }\n",
    "\n",
    "    // 抽象方法：子类必须实现\n",
    "    public abstract double perimeter();\n",
    "    public abstract double area();\n",
    "\n",
    "    // 覆盖 toString() 提供对象描述\n",
    "    @Override\n",
    "    public String toString() { \n",
    "        return \"[\" + objectName + \"] indent:\" + indentPos; \n",
    "    }\n",
    "}"
   ]
  },
  {
   "cell_type": "code",
   "execution_count": null,
   "metadata": {},
   "outputs": [],
   "source": [
    "// Subclass --- Square\n",
    "public class Square extends Shape {\n",
    "    private int length;\n",
    "\n",
    "    public Square(int length, String name) {\n",
    "        super(name);  // 调用父类构造函数\n",
    "        this.length = length;\n",
    "    }\n",
    "\n",
    "    @Override\n",
    "    public double perimeter() { \n",
    "        return length * 4; \n",
    "    }\n",
    "\n",
    "    @Override\n",
    "    public double area() { \n",
    "        return length * length; \n",
    "    }\n",
    "\n",
    "    @Override\n",
    "    public String toString() {\n",
    "        return super.toString() + \" length:\" + length; // 组合父类与子类信息\n",
    "    }\n",
    "}"
   ]
  }
 ],
 "metadata": {
  "kernelspec": {
   "display_name": "Java",
   "language": "java",
   "name": "java"
  },
  "language_info": {
   "codemirror_mode": "java",
   "file_extension": ".jshell",
   "mimetype": "text/x-java-source",
   "name": "java",
   "pygments_lexer": "java",
   "version": "23.0.1+11-39"
  }
 },
 "nbformat": 4,
 "nbformat_minor": 2
}
